{
 "cells": [
  {
   "cell_type": "code",
   "execution_count": 3,
   "metadata": {},
   "outputs": [],
   "source": [
    "import pandas as pd\n",
    "import random"
   ]
  },
  {
   "cell_type": "code",
   "execution_count": 15,
   "metadata": {},
   "outputs": [
    {
     "data": {
      "text/html": [
       "<div>\n",
       "<style scoped>\n",
       "    .dataframe tbody tr th:only-of-type {\n",
       "        vertical-align: middle;\n",
       "    }\n",
       "\n",
       "    .dataframe tbody tr th {\n",
       "        vertical-align: top;\n",
       "    }\n",
       "\n",
       "    .dataframe thead th {\n",
       "        text-align: right;\n",
       "    }\n",
       "</style>\n",
       "<table border=\"1\" class=\"dataframe\">\n",
       "  <thead>\n",
       "    <tr style=\"text-align: right;\">\n",
       "      <th></th>\n",
       "      <th>x</th>\n",
       "      <th>y</th>\n",
       "      <th>City</th>\n",
       "    </tr>\n",
       "  </thead>\n",
       "  <tbody>\n",
       "    <tr>\n",
       "      <th>0</th>\n",
       "      <td>5.500000e-08</td>\n",
       "      <td>9.860000e-09</td>\n",
       "      <td>1</td>\n",
       "    </tr>\n",
       "    <tr>\n",
       "      <th>1</th>\n",
       "      <td>-2.887330e+01</td>\n",
       "      <td>-7.980000e-08</td>\n",
       "      <td>2</td>\n",
       "    </tr>\n",
       "    <tr>\n",
       "      <th>2</th>\n",
       "      <td>-7.929160e+01</td>\n",
       "      <td>-2.140330e+01</td>\n",
       "      <td>3</td>\n",
       "    </tr>\n",
       "    <tr>\n",
       "      <th>3</th>\n",
       "      <td>-1.465770e+01</td>\n",
       "      <td>-4.338960e+01</td>\n",
       "      <td>4</td>\n",
       "    </tr>\n",
       "    <tr>\n",
       "      <th>4</th>\n",
       "      <td>-6.474730e+01</td>\n",
       "      <td>2.189820e+01</td>\n",
       "      <td>5</td>\n",
       "    </tr>\n",
       "    <tr>\n",
       "      <th>5</th>\n",
       "      <td>-2.905850e+01</td>\n",
       "      <td>-4.321670e+01</td>\n",
       "      <td>6</td>\n",
       "    </tr>\n",
       "    <tr>\n",
       "      <th>6</th>\n",
       "      <td>-7.207850e+01</td>\n",
       "      <td>1.815810e-01</td>\n",
       "      <td>7</td>\n",
       "    </tr>\n",
       "    <tr>\n",
       "      <th>7</th>\n",
       "      <td>-3.603660e+01</td>\n",
       "      <td>-2.161350e+01</td>\n",
       "      <td>8</td>\n",
       "    </tr>\n",
       "    <tr>\n",
       "      <th>8</th>\n",
       "      <td>-5.048080e+01</td>\n",
       "      <td>7.374470e+00</td>\n",
       "      <td>9</td>\n",
       "    </tr>\n",
       "    <tr>\n",
       "      <th>9</th>\n",
       "      <td>-5.058590e+01</td>\n",
       "      <td>-2.158820e+01</td>\n",
       "      <td>10</td>\n",
       "    </tr>\n",
       "    <tr>\n",
       "      <th>10</th>\n",
       "      <td>-1.358190e-01</td>\n",
       "      <td>-2.872930e+01</td>\n",
       "      <td>11</td>\n",
       "    </tr>\n",
       "    <tr>\n",
       "      <th>11</th>\n",
       "      <td>-6.508660e+01</td>\n",
       "      <td>-3.606250e+01</td>\n",
       "      <td>12</td>\n",
       "    </tr>\n",
       "    <tr>\n",
       "      <th>12</th>\n",
       "      <td>-2.149830e+01</td>\n",
       "      <td>7.319420e+00</td>\n",
       "      <td>13</td>\n",
       "    </tr>\n",
       "    <tr>\n",
       "      <th>13</th>\n",
       "      <td>-5.756870e+01</td>\n",
       "      <td>-4.325060e+01</td>\n",
       "      <td>14</td>\n",
       "    </tr>\n",
       "    <tr>\n",
       "      <th>14</th>\n",
       "      <td>-4.307000e+01</td>\n",
       "      <td>1.455480e+01</td>\n",
       "      <td>15</td>\n",
       "    </tr>\n",
       "  </tbody>\n",
       "</table>\n",
       "</div>"
      ],
      "text/plain": [
       "               x             y  City\n",
       "0   5.500000e-08  9.860000e-09     1\n",
       "1  -2.887330e+01 -7.980000e-08     2\n",
       "2  -7.929160e+01 -2.140330e+01     3\n",
       "3  -1.465770e+01 -4.338960e+01     4\n",
       "4  -6.474730e+01  2.189820e+01     5\n",
       "5  -2.905850e+01 -4.321670e+01     6\n",
       "6  -7.207850e+01  1.815810e-01     7\n",
       "7  -3.603660e+01 -2.161350e+01     8\n",
       "8  -5.048080e+01  7.374470e+00     9\n",
       "9  -5.058590e+01 -2.158820e+01    10\n",
       "10 -1.358190e-01 -2.872930e+01    11\n",
       "11 -6.508660e+01 -3.606250e+01    12\n",
       "12 -2.149830e+01  7.319420e+00    13\n",
       "13 -5.756870e+01 -4.325060e+01    14\n",
       "14 -4.307000e+01  1.455480e+01    15"
      ]
     },
     "execution_count": 15,
     "metadata": {},
     "output_type": "execute_result"
    }
   ],
   "source": [
    "df = pd.read_csv(\"./15-Points.csv\")\n",
    "df"
   ]
  },
  {
   "cell_type": "code",
   "execution_count": 24,
   "metadata": {},
   "outputs": [],
   "source": [
    "class City:\n",
    "    def __init__(self , _id , x , y, visited = False):\n",
    "        self._id = _id\n",
    "        self.x = x\n",
    "        self.y = y\n",
    "        self.visited = visited\n",
    "        \n",
    "    \n",
    "    def __repr__(self) -> str:\n",
    "        return (f\"_id : {self._id} , x , y : {[self.x , self.y]} ,visited : {self.visited} \")\n",
    "\n"
   ]
  },
  {
   "cell_type": "code",
   "execution_count": 25,
   "metadata": {},
   "outputs": [],
   "source": [
    "cairo = City(\"cairo\" , 5 , 2 )"
   ]
  },
  {
   "cell_type": "code",
   "execution_count": 26,
   "metadata": {},
   "outputs": [],
   "source": [
    "cities = []\n",
    "\n",
    "for i in range(len(df)):\n",
    "    cities.append(City(df.iloc[i][\"City\"]  , df.iloc[i][\"x\"] ,df.iloc[i][\"y\"]   ))\n"
   ]
  },
  {
   "cell_type": "code",
   "execution_count": 27,
   "metadata": {},
   "outputs": [
    {
     "data": {
      "text/plain": [
       "_id : 1.0 , x , y : [5.5e-08, 9.86e-09] ,visited : False "
      ]
     },
     "execution_count": 27,
     "metadata": {},
     "output_type": "execute_result"
    }
   ],
   "source": [
    "cities[0]"
   ]
  },
  {
   "cell_type": "code",
   "execution_count": 28,
   "metadata": {},
   "outputs": [],
   "source": [
    "class TSP:\n",
    "    def __init__(self, cities, start_city=None):\n",
    "        self.cities = cities.copy()\n",
    "        self.depot = cities[start_city] if start_city is not None else self.get_depot()\n",
    "        self.cost = 0\n",
    "        self.tour = []\n",
    "\n",
    "    def get_depot(self):\n",
    "        return random.choice(self.cities)\n",
    "\n",
    "    def find_nearest_city(self, current_city):\n",
    "        nearest_city = None\n",
    "        nearest_distance = float('inf')\n",
    "        for city in self.cities:\n",
    "            if city.visited:\n",
    "                continue\n",
    "            distance = self.calculate_distance(current_city, city)\n",
    "            if distance < nearest_distance:\n",
    "                nearest_city = city\n",
    "                nearest_distance = distance\n",
    "        return nearest_city\n",
    "\n",
    "    def calculate_distance(self, city1, city2):\n",
    "        x1, y1 = city1.x, city1.y\n",
    "        x2, y2 = city2.x, city2.y\n",
    "        return ((x1 - x2) ** 2 + (y1 - y2) ** 2) ** 0.5\n",
    "\n",
    "    def solve(self):\n",
    "        current_city = self.depot\n",
    "        current_city.visited = True\n",
    "        self.tour.append(current_city._id)\n",
    "        for i in range(len(self.cities) - 1):\n",
    "            next_city = self.find_nearest_city(current_city)\n",
    "            next_city.visited = True\n",
    "            self.cost += self.calculate_distance(current_city, next_city)\n",
    "            current_city = next_city\n",
    "            self.tour.append(current_city._id)\n",
    "        self.cost += self.calculate_distance(current_city, self.depot)\n",
    "        self.tour.append(self.depot._id)\n",
    "        return self.tour, self.cost\n"
   ]
  },
  {
   "cell_type": "code",
   "execution_count": 29,
   "metadata": {},
   "outputs": [],
   "source": [
    "cities = []\n",
    "\n",
    "for i in range(len(df)):\n",
    "    cities.append(City(df.iloc[i][\"City\"]  , df.iloc[i][\"x\"] ,df.iloc[i][\"y\"]   ))\n"
   ]
  },
  {
   "cell_type": "code",
   "execution_count": 30,
   "metadata": {},
   "outputs": [],
   "source": [
    "tsp = TSP(cities, 0)"
   ]
  },
  {
   "cell_type": "code",
   "execution_count": 31,
   "metadata": {},
   "outputs": [
    {
     "data": {
      "text/plain": [
       "([1.0,\n",
       "  13.0,\n",
       "  2.0,\n",
       "  15.0,\n",
       "  9.0,\n",
       "  5.0,\n",
       "  7.0,\n",
       "  3.0,\n",
       "  12.0,\n",
       "  14.0,\n",
       "  10.0,\n",
       "  8.0,\n",
       "  6.0,\n",
       "  4.0,\n",
       "  11.0,\n",
       "  1.0],\n",
       " 284.3810904080332)"
      ]
     },
     "execution_count": 31,
     "metadata": {},
     "output_type": "execute_result"
    }
   ],
   "source": [
    "tsp.solve()"
   ]
  },
  {
   "cell_type": "code",
   "execution_count": 147,
   "metadata": {},
   "outputs": [
    {
     "data": {
      "text/plain": [
       "[_id : 1.0 , x , y : [5.5e-08, 9.86e-09] ,visited : True ,\n",
       " _id : 2.0 , x , y : [-28.8733, -7.98e-08] ,visited : True ,\n",
       " _id : 3.0 , x , y : [-79.2916, -21.4033] ,visited : True ,\n",
       " _id : 4.0 , x , y : [-14.6577, -43.3896] ,visited : True ,\n",
       " _id : 5.0 , x , y : [-64.7473, 21.8982] ,visited : True ,\n",
       " _id : 6.0 , x , y : [-29.0585, -43.2167] ,visited : True ,\n",
       " _id : 7.0 , x , y : [-72.0785, 0.181581] ,visited : True ,\n",
       " _id : 8.0 , x , y : [-36.0366, -21.6135] ,visited : True ,\n",
       " _id : 9.0 , x , y : [-50.4808, 7.37447] ,visited : True ,\n",
       " _id : 10.0 , x , y : [-50.5859, -21.5882] ,visited : True ,\n",
       " _id : 11.0 , x , y : [-0.135819, -28.7293] ,visited : True ,\n",
       " _id : 12.0 , x , y : [-65.0866, -36.0625] ,visited : True ,\n",
       " _id : 13.0 , x , y : [-21.4983, 7.31942] ,visited : True ,\n",
       " _id : 14.0 , x , y : [-57.5687, -43.2506] ,visited : True ,\n",
       " _id : 15.0 , x , y : [-43.07, 14.5548] ,visited : True ]"
      ]
     },
     "execution_count": 147,
     "metadata": {},
     "output_type": "execute_result"
    }
   ],
   "source": [
    "cities"
   ]
  },
  {
   "cell_type": "code",
   "execution_count": null,
   "metadata": {},
   "outputs": [],
   "source": []
  },
  {
   "cell_type": "code",
   "execution_count": null,
   "metadata": {},
   "outputs": [],
   "source": []
  }
 ],
 "metadata": {
  "kernelspec": {
   "display_name": "base",
   "language": "python",
   "name": "python3"
  },
  "language_info": {
   "codemirror_mode": {
    "name": "ipython",
    "version": 3
   },
   "file_extension": ".py",
   "mimetype": "text/x-python",
   "name": "python",
   "nbconvert_exporter": "python",
   "pygments_lexer": "ipython3",
   "version": "3.10.9"
  },
  "orig_nbformat": 4
 },
 "nbformat": 4,
 "nbformat_minor": 2
}
