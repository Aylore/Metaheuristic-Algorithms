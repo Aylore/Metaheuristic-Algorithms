{
 "cells": [
  {
   "cell_type": "code",
   "execution_count": 140,
   "metadata": {},
   "outputs": [],
   "source": [
    "import pandas as pd\n",
    "df = pd.read_csv(\"./15-Points.csv\")\n"
   ]
  },
  {
   "cell_type": "code",
   "execution_count": 141,
   "metadata": {},
   "outputs": [],
   "source": [
    "class City:\n",
    "    def __init__(self, _id, x, y):\n",
    "        self._id =int(_id) - 1\n",
    "        self.x = x\n",
    "        self.y = y\n",
    "\n",
    "\n",
    "    def __repr__(self) -> str:\n",
    "        return f\"City ID : {self._id}  , Coor : {[self.x , self.y]}\"\n"
   ]
  },
  {
   "cell_type": "code",
   "execution_count": 142,
   "metadata": {},
   "outputs": [],
   "source": [
    "cities = []\n",
    "\n",
    "for i in range(len(df)):\n",
    "    cities.append(City(df.iloc[i][\"City\"]  , df.iloc[i][\"x\"] ,df.iloc[i][\"y\"]   ))\n"
   ]
  },
  {
   "cell_type": "code",
   "execution_count": 143,
   "metadata": {},
   "outputs": [],
   "source": [
    "class Ant:\n",
    "    def __init__(self, start_city):\n",
    "        self.visited = [start_city]\n",
    "        self.tour_length = 0\n",
    "\n",
    "    def visit_city(self, city, distance):\n",
    "        self.visited.append(city)\n",
    "        self.tour_length += distance\n",
    "\n",
    "\n",
    "    def __repr__(self) -> str:\n",
    "        return f\"Ant visited : {self.visited} , tour_len : {self.tour_length}\""
   ]
  },
  {
   "cell_type": "code",
   "execution_count": 144,
   "metadata": {},
   "outputs": [],
   "source": [
    "class City:\n",
    "    def __init__(self, _id, x, y):\n",
    "        self._id =int(_id) - 1\n",
    "        self.x = x\n",
    "        self.y = y\n",
    "\n",
    "\n",
    "    def __repr__(self) -> str:\n",
    "        return f\"City ID : {self._id}  , Coor : {[self.x , self.y]}\"\n"
   ]
  },
  {
   "cell_type": "code",
   "execution_count": 145,
   "metadata": {},
   "outputs": [],
   "source": [
    "import matplotlib.pyplot as plt\n",
    "def plot_best_tour(best_tour):\n",
    "        x_coords = [city.x for city in best_tour]\n",
    "        y_coords = [city.y for city in best_tour]\n",
    "        plt.plot(x_coords, y_coords, 'o-')\n",
    "        plt.title('Best Tour')\n",
    "        plt.xlabel('X Coordinate')\n",
    "        plt.ylabel('Y Coordinate')\n",
    "        plt.show()\n",
    "\n",
    "\n"
   ]
  },
  {
   "cell_type": "code",
   "execution_count": 146,
   "metadata": {},
   "outputs": [],
   "source": [
    "import random\n",
    "import math\n",
    "\n",
    "class ACO:\n",
    "    def __init__(self, cities, ants_count, alpha, beta, evaporation_rate, iterations):\n",
    "        self.cities = cities\n",
    "        self.ants_count = ants_count\n",
    "        self.alpha = alpha\n",
    "        self.beta = beta\n",
    "        self.evaporation_rate = evaporation_rate\n",
    "        self.iterations = iterations\n",
    "        self.pheromone_matrix = self.initialize_pheromone_matrix()\n",
    "\n",
    "    def initialize_pheromone_matrix(self):\n",
    "        n = len(self.cities)\n",
    "        return [[1 / (n * (n - 1)) for _ in range(n)] for _ in range(n)]\n",
    "\n",
    "    def distance(self, city1, city2):\n",
    "        return math.sqrt((city1.x - city2.x) ** 2 + (city1.y - city2.y) ** 2)\n",
    "\n",
    "    def create_population(self):\n",
    "        population = []\n",
    "        for _ in range(self.ants_count):\n",
    "            start_city = random.choice(self.cities)\n",
    "            population.append(Ant(start_city))\n",
    "        # print(population)\n",
    "        return population\n",
    "\n",
    "    def select_next_city(self, ant):\n",
    "        current_city = ant.visited[-1]\n",
    "        unvisited_cities = [city for city in self.cities if city not in ant.visited]\n",
    "        city_probabilities = []\n",
    "\n",
    "        # Calculate probabilities\n",
    "        for city in unvisited_cities:\n",
    "            distance = self.distance(current_city, city)\n",
    "            pheromone = self.pheromone_matrix[current_city._id][city._id]\n",
    "            probability = (pheromone ** self.alpha) * ((1 / distance) ** self.beta)\n",
    "            city_probabilities.append(probability)\n",
    "\n",
    "        # Normalize probabilities\n",
    "        total_probability = sum(city_probabilities)\n",
    "        city_probabilities = [prob / total_probability for prob in city_probabilities]\n",
    "\n",
    "        # Select city using CDF\n",
    "        random_number = random.random()\n",
    "        cumulative_probability = 0\n",
    "        for idx, city_probability in enumerate(city_probabilities):\n",
    "            cumulative_probability += city_probability\n",
    "            if random_number <= cumulative_probability:  ### Sort \n",
    "                return unvisited_cities[idx]\n",
    "\n",
    "    def update_pheromone(self, ants):\n",
    "        # print(ants)\n",
    "        # return 0\n",
    "        for i in range(len(self.pheromone_matrix)):\n",
    "            for j in range(len(self.pheromone_matrix)):\n",
    "                if i != j:\n",
    "                    delta_pheromone = 0\n",
    "                    for ant in ants:\n",
    "                        if (self.cities[i] in ant.visited) and (self.cities[j] in ant.visited):\n",
    "                            idx_i = ant.visited.index(self.cities[i])\n",
    "                            idx_j = ant.visited.index(self.cities[j])\n",
    "                            if abs(idx_i - idx_j) == 1:\n",
    "                                delta_pheromone += 1 / ant.tour_length\n",
    "                    self.pheromone_matrix[i][j] = (1 - self.evaporation_rate) * self.pheromone_matrix[i][j] + delta_pheromone\n",
    "\n",
    "    def solve(self):\n",
    "        best_ant = None\n",
    "        best_tour_length = float('inf')\n",
    "\n",
    "        for _ in range(self.iterations):\n",
    "            ants = self.create_population()\n",
    "            for ant in ants:\n",
    "                for _ in range(len(self.cities) - 1):\n",
    "                    next_city = self.select_next_city(ant)\n",
    "                    distance = self.distance(ant.visited[-1], next_city)\n",
    "                    ant.visit_city(next_city, distance)\n",
    "                ant.tour_length += self.distance(ant.visited[-1], ant.visited[0])  # Close the tour\n",
    "\n",
    "                # Update best solution\n",
    "                if ant.tour_length < best_tour_length:\n",
    "                    best_ant = ant\n",
    "                    best_tour_length = ant.tour_length\n",
    "\n",
    "            self.update_pheromone(ants)\n",
    "\n",
    "        return best_ant, best_tour_length"
   ]
  },
  {
   "cell_type": "code",
   "execution_count": 147,
   "metadata": {},
   "outputs": [
    {
     "name": "stdout",
     "output_type": "stream",
     "text": [
      "Best tour: [City ID : 13  , Coor : [-57.5687, -43.2506], City ID : 11  , Coor : [-65.0866, -36.0625], City ID : 2  , Coor : [-79.2916, -21.4033], City ID : 6  , Coor : [-72.0785, 0.181581], City ID : 4  , Coor : [-64.7473, 21.8982], City ID : 8  , Coor : [-50.4808, 7.37447], City ID : 14  , Coor : [-43.07, 14.5548], City ID : 1  , Coor : [-28.8733, -7.98e-08], City ID : 12  , Coor : [-21.4983, 7.31942], City ID : 0  , Coor : [5.5e-08, 9.86e-09], City ID : 10  , Coor : [-0.135819, -28.7293], City ID : 3  , Coor : [-14.6577, -43.3896], City ID : 5  , Coor : [-29.0585, -43.2167], City ID : 7  , Coor : [-36.0366, -21.6135], City ID : 9  , Coor : [-50.5859, -21.5882]]\n",
      "Best tour length: 284.3810904080331\n"
     ]
    },
    {
     "data": {
      "image/png": "[encoded data removed]",
      "text/plain": [
       "<Figure size 640x480 with 1 Axes>"
      ]
     },
     "metadata": {},
     "output_type": "display_data"
    }
   ],
   "source": [
    "\n",
    "\n",
    "aco = ACO(cities, ants_count=10, alpha=1, beta=2, evaporation_rate=0.5, iterations=100)\n",
    "best_ant, best_tour_length = aco.solve()\n",
    "\n",
    "print(\"Best tour:\", best_ant.visited)\n",
    "print(\"Best tour length:\", best_tour_length)\n",
    "plot_best_tour(best_tour)"
   ]
  },
  {
   "cell_type": "code",
   "execution_count": null,
   "metadata": {},
   "outputs": [],
   "source": []
  }
 ],
 "metadata": {
  "kernelspec": {
   "display_name": "base",
   "language": "python",
   "name": "python3"
  },
  "language_info": {
   "codemirror_mode": {
    "name": "ipython",
    "version": 3
   },
   "file_extension": ".py",
   "mimetype": "text/x-python",
   "name": "python",
   "nbconvert_exporter": "python",
   "pygments_lexer": "ipython3",
   "version": "3.10.9"
  },
  "orig_nbformat": 4
 },
 "nbformat": 4,
 "nbformat_minor": 2
}
